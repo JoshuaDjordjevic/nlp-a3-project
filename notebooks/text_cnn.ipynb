{
 "cells": [
  {
   "cell_type": "markdown",
   "metadata": {},
   "source": [
    "# 1. Imports"
   ]
  },
  {
   "cell_type": "code",
   "execution_count": 1,
   "metadata": {},
   "outputs": [
    {
     "name": "stdout",
     "output_type": "stream",
     "text": [
      "Import completed.\n"
     ]
    }
   ],
   "source": [
    "import os\n",
    "os.environ[\"HF_HUB_DISABLE_TOKEN_WARNING\"] = \"1\"\n",
    "\n",
    "from datasets.utils.logging import disable_progress_bar\n",
    "disable_progress_bar()\n",
    "\n",
    "import warnings\n",
    "warnings.simplefilter(\"ignore\")\n",
    "\n",
    "import torch\n",
    "import torch.nn as nn\n",
    "import torch.optim as optim\n",
    "from torch.utils.data import DataLoader, Dataset\n",
    "from transformers import AutoTokenizer\n",
    "import pandas as pd\n",
    "\n",
    "print(\"Import completed.\")"
   ]
  },
  {
   "cell_type": "markdown",
   "metadata": {},
   "source": [
    "# 2. Load Data and Preprocess Text"
   ]
  },
  {
   "cell_type": "code",
   "execution_count": 11,
   "metadata": {},
   "outputs": [],
   "source": [
    "# Set the path to the dataset\n",
    "file_path = \"../datasets/WELFake_Dataset.csv\"\n",
    "\n",
    "df = pd.read_csv(file_path)\n",
    "df = df.dropna(subset=[\"title\", \"text\", \"label\"])\n",
    "df[\"title\"] = df[\"title\"].astype(str)\n",
    "df[\"text\"] = df[\"text\"].astype(str)\n",
    "df[\"label\"] = df[\"label\"].astype(int)\n",
    "\n",
    "df = df.sample(frac=1, random_state=42).reset_index(drop=True)\n",
    "\n",
    "tokenizer = AutoTokenizer.from_pretrained(\"bert-base-uncased\")\n",
    "\n",
    "# Tokenize the texts in the dataframe\n",
    "tokenized = tokenizer(\n",
    "    list(df[\"title\"]),\n",
    "    truncation=True,\n",
    "    padding=\"max_length\",\n",
    "    max_length=256,\n",
    "    return_tensors=\"pt\"\n",
    ")\n",
    "\n",
    "# Extract tensors\n",
    "input_ids = tokenized[\"input_ids\"]\n",
    "labels = torch.tensor(df[\"label\"].values, dtype=torch.long)\n",
    "\n",
    "# Combine inputs and labels\n",
    "data = list(zip(input_ids, labels))"
   ]
  },
  {
   "cell_type": "markdown",
   "metadata": {},
   "source": [
    "# 3. Prepare Datasets and Dataloaders"
   ]
  },
  {
   "cell_type": "code",
   "execution_count": 12,
   "metadata": {},
   "outputs": [
    {
     "name": "stdout",
     "output_type": "stream",
     "text": [
      "Data preparation completed.\n"
     ]
    }
   ],
   "source": [
    "# Train-test split\n",
    "split_idx = int(0.8 * len(data))\n",
    "train_data = data[:split_idx]\n",
    "test_data = data[split_idx:]\n",
    "\n",
    "# Define custom dataset class\n",
    "class FakeNewsDataset(Dataset):\n",
    "    def __init__(self, data):\n",
    "        \"\"\"\n",
    "        Initializes the dataset with the provided data.\n",
    "        \"\"\"\n",
    "        self.data = data\n",
    "\n",
    "    def __len__(self):\n",
    "        \"\"\"\n",
    "        Returns the total number of samples in the dataset.\n",
    "        \"\"\"\n",
    "        return len(self.data)\n",
    "\n",
    "    def __getitem__(self, idx):\n",
    "        \"\"\"\n",
    "        Retrieves the sample at the specified index.\n",
    "        \"\"\"\n",
    "        return self.data[idx]\n",
    "\n",
    "# Create dataset objects for training and testing\n",
    "dataset = FakeNewsDataset(data)\n",
    "train_dataset = FakeNewsDataset(train_data)  # Initialize training dataset\n",
    "test_dataset = FakeNewsDataset(test_data)  # Initialize testing dataset\n",
    "\n",
    "# Define batch size for training and testing\n",
    "BATCH_SIZE = 32  # Set batch size\n",
    "\n",
    "# Create DataLoaders for efficient data loading during training and evaluation\n",
    "train_loader = DataLoader(train_dataset, batch_size=BATCH_SIZE, shuffle=True)  # DataLoader for training\n",
    "test_loader = DataLoader(test_dataset, batch_size=BATCH_SIZE, shuffle=False)  # DataLoader for testing\n",
    "\n",
    "print(\"Data preparation completed.\")"
   ]
  },
  {
   "cell_type": "markdown",
   "metadata": {},
   "source": [
    "# 4. Define the TextCNN Model"
   ]
  },
  {
   "cell_type": "code",
   "execution_count": null,
   "metadata": {},
   "outputs": [
    {
     "data": {
      "text/plain": [
       "TextCNN(\n",
       "  (embedding): Embedding(30522, 128)\n",
       "  (convs): ModuleList(\n",
       "    (0): Conv2d(1, 12, kernel_size=(3, 128), stride=(1, 1))\n",
       "    (1): Conv2d(1, 12, kernel_size=(5, 128), stride=(1, 1))\n",
       "    (2): Conv2d(1, 12, kernel_size=(7, 128), stride=(1, 1))\n",
       "  )\n",
       "  (fc): Linear(in_features=36, out_features=2, bias=True)\n",
       "  (dropout): Dropout(p=0.5, inplace=False)\n",
       ")"
      ]
     },
     "execution_count": 17,
     "metadata": {},
     "output_type": "execute_result"
    }
   ],
   "source": [
    "# Define model hyperparameters\n",
    "VOCAB_SIZE = tokenizer.vocab_size  # Get vocabulary size from tokenizer\n",
    "EMBEDDING_DIM = 128  # Dimension of word embeddings\n",
    "NUM_CLASSES = 2  # Number of output classes (real/fake news)\n",
    "FILTER_SIZES = [3, 5, 7]  # Different filter sizes for convolution layers\n",
    "NUM_FILTERS = 12  # Number of filters per convolutional layer\n",
    "NUM_EPOCHS = 12  # Number of training epochs\n",
    "\n",
    "class TextCNN(nn.Module):\n",
    "    def __init__(self, vocab_size, embedding_dim, num_classes, filter_sizes, num_filters):\n",
    "        \"\"\"\n",
    "        Initializes the TextCNN model with embedding, convolutional, and fully connected layers.\n",
    "        It does not process input data but sets up the model structure.\n",
    "        \"\"\"\n",
    "        super(TextCNN, self).__init__()\n",
    "        self.embedding = nn.Embedding(vocab_size, embedding_dim)  # Embedding layer\n",
    "        self.convs = nn.ModuleList([\n",
    "            nn.Conv2d(1, num_filters, (fs, embedding_dim)) for fs in filter_sizes  # Apply different filter sizes\n",
    "        ])\n",
    "        self.fc = nn.Linear(len(filter_sizes) * num_filters, num_classes)  # Fully connected layer\n",
    "        self.dropout = nn.Dropout(0.5)  # Dropout for regularization\n",
    "\n",
    "    def forward(self, x):\n",
    "        \"\"\"\n",
    "        Define how the input data flows through the network.\n",
    "        It applies the layers defined in __init__() to the input and computes the output.\n",
    "        This is where the actual computation (like embedding lookup, convolution, activation functions,\n",
    "        and classification) happens when the model is used.\n",
    "        \"\"\"\n",
    "        x = self.embedding(x).unsqueeze(1)  # Convert input into embeddings and add a channel dimension\n",
    "        x = [torch.relu(conv(x)).squeeze(3) for conv in self.convs]  # Apply convolution layers\n",
    "        x = [torch.max(pool, dim=2)[0] for pool in x]  # Apply max pooling\n",
    "        x = torch.cat(x, dim=1)  # Concatenate feature maps\n",
    "        x = self.dropout(x)  # Apply dropout\n",
    "        return self.fc(x)  # Output layer\n",
    "\n",
    "# Initialize the TextCNN model with predefined parameters\n",
    "model = TextCNN(VOCAB_SIZE, EMBEDDING_DIM, NUM_CLASSES, FILTER_SIZES, NUM_FILTERS)\n",
    "\n",
    "# Set device (GPU if available, otherwise CPU)\n",
    "device = torch.device(\"cuda\" if torch.cuda.is_available() else \"cpu\")  # Check device availability\n",
    "model.to(device)  # Move model to selected device"
   ]
  },
  {
   "cell_type": "markdown",
   "metadata": {},
   "source": [
    "# 5. Train and Evaluate The Model"
   ]
  },
  {
   "cell_type": "code",
   "execution_count": 18,
   "metadata": {},
   "outputs": [
    {
     "name": "stdout",
     "output_type": "stream",
     "text": [
      "Epoch 1/20, Loss: 0.3313\n",
      "Epoch 2/20, Loss: 0.2208\n",
      "Epoch 3/20, Loss: 0.1736\n",
      "Epoch 4/20, Loss: 0.1420\n",
      "Epoch 5/20, Loss: 0.1187\n",
      "Epoch 6/20, Loss: 0.1001\n",
      "Epoch 7/20, Loss: 0.0839\n",
      "Epoch 8/20, Loss: 0.0742\n",
      "Epoch 9/20, Loss: 0.0632\n",
      "Epoch 10/20, Loss: 0.0551\n",
      "Epoch 11/20, Loss: 0.0515\n",
      "Epoch 12/20, Loss: 0.0460\n",
      "Epoch 13/20, Loss: 0.0420\n",
      "Epoch 14/20, Loss: 0.0405\n",
      "Epoch 15/20, Loss: 0.0352\n",
      "Epoch 16/20, Loss: 0.0351\n",
      "Epoch 17/20, Loss: 0.0321\n",
      "Epoch 18/20, Loss: 0.0291\n",
      "Epoch 19/20, Loss: 0.0271\n",
      "Epoch 20/20, Loss: 0.0263\n",
      "Test Accuracy: 0.9267\n"
     ]
    }
   ],
   "source": [
    "# Define loss function and optimizer for training\n",
    "criterion = nn.CrossEntropyLoss()  # Cross-entropy loss for classification\n",
    "optimizer = optim.Adam(model.parameters(), lr=1e-3)  # Adam optimizer with specified learning rate\n",
    "\n",
    "def train_model():\n",
    "    \"\"\"\n",
    "    Trains the model for a specified number of epochs.\n",
    "    \"\"\"\n",
    "    model.train()  # Set model to training mode\n",
    "    for epoch in range(NUM_EPOCHS):  # Loop through epochs\n",
    "        total_loss = 0  # Initialize total loss\n",
    "        for batch in train_loader:  # Iterate over training batches\n",
    "            inputs, labels = batch  # Unpack input features and labels\n",
    "            inputs, labels = inputs.to(device), labels.to(device)  # Move data to the correct device\n",
    "            optimizer.zero_grad()  # Reset gradients\n",
    "            outputs = model(inputs)  # Forward pass through the model\n",
    "            loss = criterion(outputs, labels)  # Compute loss\n",
    "            loss.backward()  # Backpropagation\n",
    "            optimizer.step()  # Update model weights\n",
    "            total_loss += loss.item()  # Accumulate loss\n",
    "        print(f\"Epoch {epoch+1}/{NUM_EPOCHS}, Loss: {total_loss/len(train_loader):.4f}\")  # Print average loss per epoch\n",
    "\n",
    "def evaluate_model():\n",
    "    \"\"\"\n",
    "    Evaluates the model on the test dataset.\n",
    "    \"\"\"\n",
    "    model.eval()  # Set model to evaluation mode\n",
    "    correct = 0  # Initialize correct predictions count\n",
    "    total = 0  # Initialize total sample count\n",
    "    with torch.no_grad():  # Disable gradient computation during evaluation\n",
    "        for batch in test_loader:  # Iterate over test batches\n",
    "            inputs, labels = batch  # Unpack inputs and labels\n",
    "            inputs, labels = inputs.to(device), labels.to(device)  # Move data to the correct device\n",
    "            outputs = model(inputs)  # Forward pass\n",
    "            predictions = torch.argmax(outputs, dim=1)  # Get predicted class labels\n",
    "            correct += (predictions == labels).sum().item()  # Count correct predictions\n",
    "            total += labels.size(0)  # Count total samples\n",
    "    print(f\"Test Accuracy: {correct / total:.4f}\")  # Print test accuracy\n",
    "\n",
    "# Train and evaluate the model\n",
    "train_model()\n",
    "evaluate_model()"
   ]
  },
  {
   "cell_type": "markdown",
   "metadata": {},
   "source": [
    "# 6. Compute and Display Metrics"
   ]
  },
  {
   "cell_type": "code",
   "execution_count": 16,
   "metadata": {},
   "outputs": [
    {
     "data": {
      "image/png": "[encoded data removed]",
      "text/plain": [
       "<Figure size 640x480 with 2 Axes>"
      ]
     },
     "metadata": {},
     "output_type": "display_data"
    },
    {
     "name": "stdout",
     "output_type": "stream",
     "text": [
      "Accuracy: 92.76%\n",
      "              precision    recall  f1-score   support\n",
      "\n",
      "        True       0.93      0.92      0.93      6928\n",
      "        Fake       0.93      0.93      0.93      7380\n",
      "\n",
      "    accuracy                           0.93     14308\n",
      "   macro avg       0.93      0.93      0.93     14308\n",
      "weighted avg       0.93      0.93      0.93     14308\n",
      "\n"
     ]
    }
   ],
   "source": [
    "from sklearn.metrics import confusion_matrix, accuracy_score, classification_report\n",
    "import seaborn as sns\n",
    "import matplotlib.pyplot as plt\n",
    "import torch\n",
    "\n",
    "# Generate predictions using the trained TextCNN model\n",
    "model.eval()\n",
    "all_preds = []\n",
    "all_labels = []\n",
    "\n",
    "with torch.no_grad():\n",
    "    for batch in test_loader:\n",
    "        inputs, labels = batch\n",
    "        inputs, labels = inputs.to(device), labels.to(device)\n",
    "        outputs = model(inputs)\n",
    "        preds = torch.argmax(outputs, dim=1)\n",
    "        all_preds.extend(preds.cpu().numpy())\n",
    "        all_labels.extend(labels.cpu().numpy())\n",
    "\n",
    "# Create the confusion matrix\n",
    "matrix = confusion_matrix(all_labels, all_preds)\n",
    "\n",
    "# Plot confusion matrix heatmap\n",
    "sns.heatmap(matrix.T,\n",
    "            square=True,\n",
    "            annot=True,\n",
    "            fmt=\"d\",\n",
    "            xticklabels=[\"True\", \"Fake\"],\n",
    "            yticklabels=[\"True\", \"Fake\"])\n",
    "\n",
    "plt.xlabel(\"True Labels\")\n",
    "plt.ylabel(\"Predicted Labels\")\n",
    "plt.title(\"TextCNN Confusion Matrix\")\n",
    "plt.show()\n",
    "\n",
    "# Print accuracy and classification report\n",
    "print(\"Accuracy: {:.2f}%\".format(accuracy_score(all_labels, all_preds) * 100))\n",
    "print(classification_report(all_labels, all_preds, target_names=[\"True\", \"Fake\"]))"
   ]
  }
 ],
 "metadata": {
  "kernelspec": {
   "display_name": ".env",
   "language": "python",
   "name": "python3"
  },
  "language_info": {
   "codemirror_mode": {
    "name": "ipython",
    "version": 3
   },
   "file_extension": ".py",
   "mimetype": "text/x-python",
   "name": "python",
   "nbconvert_exporter": "python",
   "pygments_lexer": "ipython3",
   "version": "3.10.8"
  }
 },
 "nbformat": 4,
 "nbformat_minor": 2
}
