{
 "cells": [
  {
   "cell_type": "markdown",
   "metadata": {},
   "source": [
    "# 1. Imports"
   ]
  },
  {
   "cell_type": "code",
   "execution_count": 6,
   "metadata": {},
   "outputs": [
    {
     "name": "stdout",
     "output_type": "stream",
     "text": [
      "Import completed.\n"
     ]
    }
   ],
   "source": [
    "import pandas as pd\n",
    "import seaborn as sns\n",
    "import matplotlib.pyplot as plt\n",
    "\n",
    "from sklearn.feature_extraction.text import TfidfVectorizer\n",
    "from sklearn.svm import LinearSVC\n",
    "from sklearn.pipeline import make_pipeline\n",
    "from sklearn.metrics import confusion_matrix, accuracy_score, classification_report\n",
    "\n",
    "print(\"Import completed.\")"
   ]
  },
  {
   "cell_type": "markdown",
   "metadata": {},
   "source": [
    "# 2. Load Data"
   ]
  },
  {
   "cell_type": "code",
   "execution_count": 7,
   "metadata": {},
   "outputs": [],
   "source": [
    "# Set the path to the dataset\n",
    "file_path = \"../datasets/WELFake_Dataset.csv\"\n",
    "\n",
    "df = pd.read_csv(file_path)\n",
    "df = df.dropna(subset=[\"title\", \"text\", \"label\"])\n",
    "df[\"title\"] = df[\"title\"].astype(str)\n",
    "df[\"text\"] = df[\"text\"].astype(str)\n",
    "df[\"label\"] = df[\"label\"].astype(int)\n",
    "\n",
    "sample_frac = 1\n",
    "# sample_frac = 0.5 # Faster training\n",
    "df = df.sample(frac=1, random_state=42).reset_index(drop=True)\n",
    "\n",
    "# Train-test split\n",
    "split_idx = int(0.8 * len(df))\n",
    "train_data = df[:split_idx]\n",
    "test_data = df[split_idx:]"
   ]
  },
  {
   "cell_type": "markdown",
   "metadata": {},
   "source": [
    "# 3. Build and Train SVM"
   ]
  },
  {
   "cell_type": "code",
   "execution_count": 8,
   "metadata": {},
   "outputs": [],
   "source": [
    "# Build the model\n",
    "model = make_pipeline(TfidfVectorizer(), LinearSVC(random_state=42))\n",
    "\n",
    "# Train the model\n",
    "model.fit(train_data['title'], train_data['label'])\n",
    "\n",
    "# Predict test data\n",
    "predicted_categories = model.predict(test_data['title'])"
   ]
  },
  {
   "cell_type": "markdown",
   "metadata": {},
   "source": [
    "# 4. Compute and Display Metrics"
   ]
  },
  {
   "cell_type": "code",
   "execution_count": 11,
   "metadata": {},
   "outputs": [
    {
     "data": {
      "image/png": "[encoded data removed]",
      "text/plain": [
       "<Figure size 640x480 with 2 Axes>"
      ]
     },
     "metadata": {},
     "output_type": "display_data"
    },
    {
     "name": "stdout",
     "output_type": "stream",
     "text": [
      "Accuracy: 0.9287112105116019\n",
      "              precision    recall  f1-score   support\n",
      "\n",
      "        True       0.94      0.91      0.93      6928\n",
      "        Fake       0.92      0.95      0.93      7380\n",
      "\n",
      "    accuracy                           0.93     14308\n",
      "   macro avg       0.93      0.93      0.93     14308\n",
      "weighted avg       0.93      0.93      0.93     14308\n",
      "\n"
     ]
    }
   ],
   "source": [
    "matrix = confusion_matrix(test_data['label'], predicted_categories)\n",
    "\n",
    "labels = sorted(df['label'].unique())\n",
    "\n",
    "sns.heatmap(matrix.T,\n",
    "            square = True,\n",
    "            annot=True,\n",
    "            fmt = \"d\",\n",
    "            xticklabels = [\"True\", \"Fake\"],\n",
    "            yticklabels = [\"True\", \"Fake\"])\n",
    "\n",
    "plt.xlabel(\"true labels\")\n",
    "plt.ylabel(\"predicted label\")\n",
    "plt.show()\n",
    "\n",
    "print(\"Accuracy: {}\".format(accuracy_score(test_data['label'], predicted_categories)))\n",
    "\n",
    "print(classification_report(test_data['label'], predicted_categories, target_names=[\"True\", \"Fake\"]))"
   ]
  },
  {
   "cell_type": "markdown",
   "metadata": {},
   "source": [
    "# 5. Hyperparameter Tuning"
   ]
  },
  {
   "cell_type": "code",
   "execution_count": 10,
   "metadata": {},
   "outputs": [
    {
     "name": "stdout",
     "output_type": "stream",
     "text": [
      "Fitting 5 folds for each of 96 candidates, totalling 480 fits\n",
      "Best cross-validation accuracy: 0.9234\n",
      "Best parameters: {'linearsvc__C': 1, 'tfidfvectorizer__max_df': 0.75, 'tfidfvectorizer__min_df': 1, 'tfidfvectorizer__ngram_range': (1, 2), 'tfidfvectorizer__stop_words': None}\n",
      "Test Accuracy: 0.9287\n"
     ]
    }
   ],
   "source": [
    "from sklearn.model_selection import GridSearchCV\n",
    "\n",
    "# Define the pipeline\n",
    "pipeline = make_pipeline(\n",
    "    TfidfVectorizer(),\n",
    "    LinearSVC(random_state=42)\n",
    ")\n",
    "\n",
    "# Define hyperparameter grid\n",
    "param_grid = {\n",
    "    'tfidfvectorizer__ngram_range': [(1, 1), (1, 2)],\n",
    "    'tfidfvectorizer__stop_words': [None, 'english'],\n",
    "    'tfidfvectorizer__max_df': [0.75, 0.9, 1.0],\n",
    "    'tfidfvectorizer__min_df': [1, 2],\n",
    "    'linearsvc__C': [0.01, 0.1, 1, 10]  # Regularization parameter\n",
    "}\n",
    "\n",
    "# Set up the grid search\n",
    "grid_search = GridSearchCV(\n",
    "    pipeline,\n",
    "    param_grid,\n",
    "    cv=5,\n",
    "    scoring='accuracy',\n",
    "    verbose=1,\n",
    "    n_jobs=-1\n",
    ")\n",
    "\n",
    "# Fit on training data\n",
    "grid_search.fit(train_data['title'], train_data['label'])\n",
    "\n",
    "# Best results\n",
    "print(\"Best cross-validation accuracy: {:.4f}\".format(grid_search.best_score_))\n",
    "print(\"Best parameters:\", grid_search.best_params_)\n",
    "\n",
    "# Use best model to predict on test data\n",
    "best_model = grid_search.best_estimator_\n",
    "predicted_categories = best_model.predict(test_data['title'])\n",
    "\n",
    "# Evaluate\n",
    "print(\"Test Accuracy: {:.4f}\".format(accuracy_score(test_data['label'], predicted_categories)))"
   ]
  }
 ],
 "metadata": {
  "kernelspec": {
   "display_name": ".env",
   "language": "python",
   "name": "python3"
  },
  "language_info": {
   "codemirror_mode": {
    "name": "ipython",
    "version": 3
   },
   "file_extension": ".py",
   "mimetype": "text/x-python",
   "name": "python",
   "nbconvert_exporter": "python",
   "pygments_lexer": "ipython3",
   "version": "3.10.8"
  }
 },
 "nbformat": 4,
 "nbformat_minor": 2
}
