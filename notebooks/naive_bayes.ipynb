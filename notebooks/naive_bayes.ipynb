{
 "cells": [
  {
   "cell_type": "markdown",
   "metadata": {},
   "source": [
    "# 1. Imports"
   ]
  },
  {
   "cell_type": "code",
   "execution_count": 5,
   "metadata": {},
   "outputs": [
    {
     "name": "stdout",
     "output_type": "stream",
     "text": [
      "Import completed.\n"
     ]
    }
   ],
   "source": [
    "import pandas as pd\n",
    "import seaborn as sns\n",
    "import matplotlib.pyplot as plt\n",
    "\n",
    "from sklearn.feature_extraction.text import TfidfVectorizer\n",
    "from sklearn.naive_bayes import MultinomialNB\n",
    "from sklearn.pipeline import make_pipeline\n",
    "from sklearn.metrics import confusion_matrix, accuracy_score, classification_report\n",
    "\n",
    "print(\"Import completed.\")"
   ]
  },
  {
   "cell_type": "markdown",
   "metadata": {},
   "source": [
    "# 2. Load Data"
   ]
  },
  {
   "cell_type": "code",
   "execution_count": 2,
   "metadata": {},
   "outputs": [],
   "source": [
    "# Set the path to the dataset\n",
    "file_path = \"../datasets/WELFake_Dataset.csv\"\n",
    "\n",
    "df = pd.read_csv(file_path)\n",
    "df = df.dropna(subset=[\"title\", \"text\", \"label\"])\n",
    "df[\"title\"] = df[\"title\"].astype(str)\n",
    "df[\"text\"] = df[\"text\"].astype(str)\n",
    "df[\"label\"] = df[\"label\"].astype(int)\n",
    "\n",
    "sample_frac = 1\n",
    "# sample_frac = 0.5 # Faster training\n",
    "df = df.sample(frac=1, random_state=42).reset_index(drop=True)\n",
    "\n",
    "# Train-test split\n",
    "split_idx = int(0.8 * len(df))\n",
    "train_data = df[:split_idx]\n",
    "test_data = df[split_idx:]"
   ]
  },
  {
   "cell_type": "markdown",
   "metadata": {},
   "source": [
    "# 3. Build and Train Naive Bayes Classifier"
   ]
  },
  {
   "cell_type": "code",
   "execution_count": 3,
   "metadata": {},
   "outputs": [],
   "source": [
    "# Build the model\n",
    "model = make_pipeline(TfidfVectorizer(), MultinomialNB())\n",
    "\n",
    "# Train the model\n",
    "model.fit(train_data['title'], train_data['label'])\n",
    "\n",
    "# Predict test data\n",
    "predicted_categories = model.predict(test_data['title'])"
   ]
  },
  {
   "cell_type": "markdown",
   "metadata": {},
   "source": [
    "# 4. Compute and Display Metrics"
   ]
  },
  {
   "cell_type": "code",
   "execution_count": 7,
   "metadata": {},
   "outputs": [
    {
     "data": {
      "image/png": "[encoded data removed]",
      "text/plain": [
       "<Figure size 640x480 with 2 Axes>"
      ]
     },
     "metadata": {},
     "output_type": "display_data"
    },
    {
     "name": "stdout",
     "output_type": "stream",
     "text": [
      "Accuracy: 0.8781101481688566\n",
      "              precision    recall  f1-score   support\n",
      "\n",
      "        True       0.89      0.86      0.87      6928\n",
      "        Fake       0.87      0.90      0.88      7380\n",
      "\n",
      "    accuracy                           0.88     14308\n",
      "   macro avg       0.88      0.88      0.88     14308\n",
      "weighted avg       0.88      0.88      0.88     14308\n",
      "\n"
     ]
    }
   ],
   "source": [
    "matrix = confusion_matrix(test_data['label'], predicted_categories)\n",
    "\n",
    "labels = sorted(df['label'].unique())\n",
    "\n",
    "sns.heatmap(matrix.T,\n",
    "            square = True,\n",
    "            annot=True,\n",
    "            fmt = \"d\",\n",
    "            xticklabels = [\"True\", \"Fake\"],\n",
    "            yticklabels = [\"True\", \"Fake\"])\n",
    "\n",
    "plt.xlabel(\"true labels\")\n",
    "plt.ylabel(\"predicted label\")\n",
    "plt.show()\n",
    "\n",
    "print(\"Accuracy: {}\".format(accuracy_score(test_data['label'], predicted_categories)))\n",
    "\n",
    "print(classification_report(test_data['label'], predicted_categories, target_names=[\"True\", \"Fake\"]))"
   ]
  },
  {
   "cell_type": "markdown",
   "metadata": {},
   "source": [
    "# 5. Hyperparameter Tuning"
   ]
  },
  {
   "cell_type": "code",
   "execution_count": 6,
   "metadata": {},
   "outputs": [
    {
     "name": "stdout",
     "output_type": "stream",
     "text": [
      "Best accuracy: 0.8980\n",
      "Best parameters: {'multinomialnb__alpha': 0.1, 'tfidfvectorizer__ngram_range': (1, 2), 'tfidfvectorizer__stop_words': None}\n",
      "Best model test accuracy: 0.8781\n"
     ]
    }
   ],
   "source": [
    "from sklearn.model_selection import GridSearchCV\n",
    "\n",
    "pipeline = make_pipeline(\n",
    "    TfidfVectorizer(),\n",
    "    MultinomialNB()\n",
    ")\n",
    "\n",
    "params = {\n",
    "    'tfidfvectorizer__ngram_range': [(1, 1), (1, 2)],\n",
    "    'tfidfvectorizer__stop_words': [None, 'english'],\n",
    "    'multinomialnb__alpha': [0.1, 0.5, 1.0, 1.5]\n",
    "}\n",
    "\n",
    "grid = GridSearchCV(pipeline, params, cv=5, scoring='accuracy')\n",
    "grid.fit(train_data['title'], train_data['label'])\n",
    "\n",
    "print(f\"Best accuracy: {grid.best_score_:.4f}\")\n",
    "print(\"Best parameters:\", grid.best_params_)\n",
    "\n",
    "best_model = grid.best_estimator_\n",
    "predicted_categories = model.predict(test_data['title'])\n",
    "best_accuracy = accuracy_score(test_data['label'], predicted_categories)\n",
    "print(f\"Best model test accuracy: {best_accuracy:.4f}\")"
   ]
  }
 ],
 "metadata": {
  "kernelspec": {
   "display_name": ".env",
   "language": "python",
   "name": "python3"
  },
  "language_info": {
   "codemirror_mode": {
    "name": "ipython",
    "version": 3
   },
   "file_extension": ".py",
   "mimetype": "text/x-python",
   "name": "python",
   "nbconvert_exporter": "python",
   "pygments_lexer": "ipython3",
   "version": "3.10.8"
  }
 },
 "nbformat": 4,
 "nbformat_minor": 2
}
